{
  "nbformat": 4,
  "nbformat_minor": 0,
  "metadata": {
    "colab": {
      "provenance": [],
      "mount_file_id": "1Ck8-TuJM1SivNg0ndHnV67K7IW3_1kv9",
      "authorship_tag": "ABX9TyOrN7QWQVcjpl0h+pTz2iwR",
      "include_colab_link": true
    },
    "kernelspec": {
      "name": "python3",
      "display_name": "Python 3"
    },
    "language_info": {
      "name": "python"
    }
  },
  "cells": [
    {
      "cell_type": "markdown",
      "metadata": {
        "id": "view-in-github",
        "colab_type": "text"
      },
      "source": [
        "<a href=\"https://colab.research.google.com/github/Bluseass/Telegram-spam-ham/blob/main/Telegram_spam_ham_91_fast.ipynb\" target=\"_parent\"><img src=\"https://colab.research.google.com/assets/colab-badge.svg\" alt=\"Open In Colab\"/></a>"
      ]
    },
    {
      "cell_type": "code",
      "execution_count": null,
      "metadata": {
        "id": "ZfOVo4znF1tV"
      },
      "outputs": [],
      "source": [
        "import pandas as pd\n",
        "df = pd.read_csv(\"/content/drive/MyDrive/telegram nlp/telegram.csv\")\n",
        "df.head()"
      ]
    },
    {
      "cell_type": "code",
      "source": [
        "from sklearn.model_selection import train_test_split\n",
        "from sklearn.feature_extraction.text import CountVectorizer\n",
        "from sklearn.naive_bayes import MultinomialNB\n",
        "from sklearn.metrics import accuracy_score, precision_score, recall_score, f1_score"
      ],
      "metadata": {
        "id": "CrSlyQL9dQC_"
      },
      "execution_count": 2,
      "outputs": []
    },
    {
      "cell_type": "code",
      "source": [
        "X_train, X_test, y_train, y_test = train_test_split(df['text'], df['text_type'], test_size=0.2, random_state=42)\n",
        "vectorizer = CountVectorizer()\n",
        "X_train_counts = vectorizer.fit_transform(X_train)"
      ],
      "metadata": {
        "id": "AUWWDPueVLak"
      },
      "execution_count": 3,
      "outputs": []
    },
    {
      "cell_type": "code",
      "source": [
        "clf = MultinomialNB()\n",
        "clf.fit(X_train_counts, y_train)"
      ],
      "metadata": {
        "id": "iInfyi5vVLc4"
      },
      "execution_count": null,
      "outputs": []
    },
    {
      "cell_type": "code",
      "source": [
        "X_test_counts = vectorizer.transform(X_test)\n",
        "\n",
        "y_pred = clf.predict(X_test_counts)"
      ],
      "metadata": {
        "id": "SMYy951ndQFb"
      },
      "execution_count": 5,
      "outputs": []
    },
    {
      "cell_type": "code",
      "source": [
        "print(\"Accuracy: \", accuracy_score(y_test, y_pred))\n",
        "\n",
        "precision = precision_score(y_test, y_pred, pos_label='spam')\n",
        "print(\"Precision: \", precision)\n",
        "\n",
        "recall = recall_score(y_test, y_pred, pos_label='spam')\n",
        "print(\"Recall: \", recall)\n",
        "\n",
        "f1 = f1_score(y_test, y_pred, pos_label='spam')\n",
        "print(\"F1 Score: \", f1)"
      ],
      "metadata": {
        "id": "QgMlpwXGdQHt",
        "colab": {
          "base_uri": "https://localhost:8080/"
        },
        "outputId": "63dec9aa-3161-4186-b962-b278feb5f096"
      },
      "execution_count": 6,
      "outputs": [
        {
          "output_type": "stream",
          "name": "stdout",
          "text": [
            "Accuracy:  0.9164619164619164\n",
            "Precision:  0.8149575944487278\n",
            "Recall:  0.9135695764909249\n",
            "F1 Score:  0.8614506927465363\n"
          ]
        }
      ]
    },
    {
      "cell_type": "code",
      "source": [],
      "metadata": {
        "id": "VWDBu6jVdQJ8"
      },
      "execution_count": 6,
      "outputs": []
    },
    {
      "cell_type": "code",
      "source": [],
      "metadata": {
        "id": "d5O7Rwl8dQMY"
      },
      "execution_count": 6,
      "outputs": []
    },
    {
      "cell_type": "code",
      "source": [],
      "metadata": {
        "id": "ghgbxdrxdQQK"
      },
      "execution_count": 6,
      "outputs": []
    }
  ]
}